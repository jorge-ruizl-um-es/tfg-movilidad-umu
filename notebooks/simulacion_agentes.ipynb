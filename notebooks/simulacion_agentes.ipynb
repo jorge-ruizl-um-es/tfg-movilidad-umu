{
 "cells": [
  {
   "cell_type": "markdown",
   "id": "1c818537",
   "metadata": {},
   "source": [
    "# 🚶 Simulación de Trayectos con Agentes\n",
    "\n",
    "Este cuaderno utiliza el framework `mesa` para simular trayectos de trabajadores desde sus residencias a sus lugares de trabajo. Cada agente representa una persona que se desplaza diariamente."
   ]
  },
  {
   "cell_type": "code",
   "execution_count": null,
   "id": "06a9cf1f",
   "metadata": {},
   "outputs": [],
   "source": [
    "# Instalación requerida si no tienes mesa\n",
    "# !pip install mesa"
   ]
  },
  {
   "cell_type": "code",
   "execution_count": null,
   "id": "a86b05ee",
   "metadata": {},
   "outputs": [],
   "source": [
    "from mesa import Agent, Model\n",
    "from mesa.time import SimultaneousActivation\n",
    "import pandas as pd\n",
    "import random"
   ]
  },
  {
   "cell_type": "markdown",
   "id": "be54e72c",
   "metadata": {},
   "source": [
    "## 📄 Cargar datos de trayectos"
   ]
  },
  {
   "cell_type": "code",
   "execution_count": null,
   "id": "5d67356b",
   "metadata": {},
   "outputs": [],
   "source": [
    "df = pd.read_csv('data/processed/datos_movilidad_coordenadas.csv')\n",
    "df = df.dropna(subset=['Lat_Residencia', 'Lon_Residencia', 'Lat_Trabajo', 'Lon_Trabajo'])\n",
    "df.reset_index(drop=True, inplace=True)\n",
    "df.head()"
   ]
  },
  {
   "cell_type": "markdown",
   "id": "8de03ab6",
   "metadata": {},
   "source": [
    "## 👤 Definición de los agentes y el modelo"
   ]
  },
  {
   "cell_type": "code",
   "execution_count": null,
   "id": "a302cb2b",
   "metadata": {},
   "outputs": [],
   "source": [
    "class Trabajador(Agent):\n",
    "    def __init__(self, unique_id, model, origen, destino):\n",
    "        super().__init__(unique_id, model)\n",
    "        self.origen = origen\n",
    "        self.destino = destino\n",
    "        self.posicion_actual = origen\n",
    "        self.trayectoria = [origen]\n",
    "        self.terminado = False\n",
    "\n",
    "    def step(self):\n",
    "        if self.terminado:\n",
    "            return\n",
    "        lat, lon = self.posicion_actual\n",
    "        dlat = (self.destino[0] - lat) * 0.1\n",
    "        dlon = (self.destino[1] - lon) * 0.1\n",
    "        nueva_pos = (lat + dlat, lon + dlon)\n",
    "        self.posicion_actual = nueva_pos\n",
    "        self.trayectoria.append(nueva_pos)\n",
    "\n",
    "        if abs(dlat) < 0.0001 and abs(dlon) < 0.0001:\n",
    "            self.terminado = True"
   ]
  },
  {
   "cell_type": "code",
   "execution_count": null,
   "id": "6ea1d9c3",
   "metadata": {},
   "outputs": [],
   "source": [
    "class SimuladorDesplazamiento(Model):\n",
    "    def __init__(self, df):\n",
    "        self.schedule = SimultaneousActivation(self)\n",
    "        self.trabajadores = []\n",
    "\n",
    "        for i, row in df.iterrows():\n",
    "            origen = (row['Lat_Residencia'], row['Lon_Residencia'])\n",
    "            destino = (row['Lat_Trabajo'], row['Lon_Trabajo'])\n",
    "            agente = Trabajador(i, self, origen, destino)\n",
    "            self.schedule.add(agente)\n",
    "            self.trabajadores.append(agente)\n",
    "\n",
    "    def step(self):\n",
    "        self.schedule.step()"
   ]
  },
  {
   "cell_type": "markdown",
   "id": "182fe331",
   "metadata": {},
   "source": [
    "## ▶️ Ejecutar la simulación"
   ]
  },
  {
   "cell_type": "code",
   "execution_count": null,
   "id": "964e50b4",
   "metadata": {},
   "outputs": [],
   "source": [
    "modelo = SimuladorDesplazamiento(df)\n",
    "\n",
    "for _ in range(20):\n",
    "    modelo.step()"
   ]
  },
  {
   "cell_type": "markdown",
   "id": "d0dc3987",
   "metadata": {},
   "source": [
    "## 📈 Visualización simple de las trayectorias"
   ]
  },
  {
   "cell_type": "code",
   "execution_count": null,
   "id": "26123914",
   "metadata": {},
   "outputs": [],
   "source": [
    "import folium\n",
    "m = folium.Map(location=[df['Lat_Residencia'].mean(), df['Lon_Residencia'].mean()], zoom_start=10)\n",
    "\n",
    "for agente in modelo.trabajadores:\n",
    "    folium.PolyLine(agente.trayectoria, color='blue', weight=2, opacity=0.6).add_to(m)\n",
    "\n",
    "m"
   ]
  }
 ],
 "metadata": {},
 "nbformat": 4,
 "nbformat_minor": 5
}