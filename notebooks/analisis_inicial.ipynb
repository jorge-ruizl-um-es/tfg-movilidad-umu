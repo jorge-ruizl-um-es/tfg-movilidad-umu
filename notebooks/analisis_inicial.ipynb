{
 "cells": [
  {
   "cell_type": "markdown",
   "id": "af88bb1e",
   "metadata": {},
   "source": [
    "# 📊 Análisis Inicial de Datos de Movilidad Laboral\n",
    "\n",
    "Este cuaderno realiza una primera exploración del dataset de trabajadores, sus residencias y lugares de trabajo. Incluye limpieza, geocodificación, cálculo de distancias y una estimación preliminar de la huella de carbono."
   ]
  },
  {
   "cell_type": "code",
   "execution_count": null,
   "id": "a9ea32cf",
   "metadata": {},
   "outputs": [],
   "source": [
    "# Cargar librerías necesarias\n",
    "import pandas as pd\n",
    "import numpy as np\n",
    "from geopy.geocoders import Nominatim\n",
    "from geopy.distance import geodesic\n",
    "import time"
   ]
  },
  {
   "cell_type": "code",
   "execution_count": null,
   "id": "755c8f7e",
   "metadata": {},
   "outputs": [],
   "source": [
    "# Cargar los datos desde un archivo Excel o CSV\n",
    "# Sustituir 'ruta/datos.xlsx' por la ruta real\n",
    "df = pd.read_excel('data/raw/datos_movilidad.xlsx')\n",
    "df.head()"
   ]
  },
  {
   "cell_type": "markdown",
   "id": "69b9ac14",
   "metadata": {},
   "source": [
    "## 🧹 Limpieza y revisión de datos"
   ]
  },
  {
   "cell_type": "code",
   "execution_count": null,
   "id": "a5e19b93",
   "metadata": {},
   "outputs": [],
   "source": [
    "# Revisamos columnas nulas, duplicadas, etc.\n",
    "print(df.info())\n",
    "print(df.isnull().sum())"
   ]
  },
  {
   "cell_type": "markdown",
   "id": "fd31e856",
   "metadata": {},
   "source": [
    "## 🌍 Geocodificación de direcciones"
   ]
  },
  {
   "cell_type": "code",
   "execution_count": null,
   "id": "c4b5c142",
   "metadata": {},
   "outputs": [],
   "source": [
    "# Inicializamos el geocodificador (Nominatim)\n",
    "geolocator = Nominatim(user_agent='movilidad_laboral')\n",
    "\n",
    "def geocode_address(address):\n",
    "    try:\n",
    "        location = geolocator.geocode(address)\n",
    "        if location:\n",
    "            return location.latitude, location.longitude\n",
    "    except:\n",
    "        pass\n",
    "    return None, None"
   ]
  },
  {
   "cell_type": "code",
   "execution_count": null,
   "id": "9dc0ad3a",
   "metadata": {},
   "outputs": [],
   "source": [
    "# Aplicar geocodificación a residencia y trabajo\n",
    "df['Coords_Residencia'] = df['Residencia'].apply(geocode_address)\n",
    "time.sleep(1)\n",
    "df['Coords_Trabajo'] = df['Direccion_Trabajo'].apply(geocode_address)\n",
    "time.sleep(1)\n",
    "\n",
    "# Separar lat/lon\n",
    "df[['Lat_Residencia', 'Lon_Residencia']] = pd.DataFrame(df['Coords_Residencia'].tolist(), index=df.index)\n",
    "df[['Lat_Trabajo', 'Lon_Trabajo']] = pd.DataFrame(df['Coords_Trabajo'].tolist(), index=df.index)"
   ]
  },
  {
   "cell_type": "markdown",
   "id": "d15a45e0",
   "metadata": {},
   "source": [
    "## 📏 Cálculo de distancia (km) entre residencia y trabajo"
   ]
  },
  {
   "cell_type": "code",
   "execution_count": null,
   "id": "667e6201",
   "metadata": {},
   "outputs": [],
   "source": [
    "def calcular_distancia(row):\n",
    "    origen = (row['Lat_Residencia'], row['Lon_Residencia'])\n",
    "    destino = (row['Lat_Trabajo'], row['Lon_Trabajo'])\n",
    "    if None in origen or None in destino:\n",
    "        return None\n",
    "    return geodesic(origen, destino).km\n",
    "\n",
    "df['Distancia_km'] = df.apply(calcular_distancia, axis=1)"
   ]
  },
  {
   "cell_type": "markdown",
   "id": "699df4ea",
   "metadata": {},
   "source": [
    "## ♻️ Estimación de emisiones de CO₂"
   ]
  },
  {
   "cell_type": "code",
   "execution_count": null,
   "id": "193d190f",
   "metadata": {},
   "outputs": [],
   "source": [
    "# Suposición: modo de transporte en función de la distancia\n",
    "def estimar_transporte(dist_km):\n",
    "    if dist_km is None:\n",
    "        return 'desconocido'\n",
    "    elif dist_km < 3:\n",
    "        return 'a pie'\n",
    "    elif dist_km < 10:\n",
    "        return 'bicicleta'\n",
    "    elif dist_km < 40:\n",
    "        return 'coche'\n",
    "    else:\n",
    "        return 'transporte público'\n",
    "\n",
    "df['Modo_Transporte'] = df['Distancia_km'].apply(estimar_transporte)\n",
    "\n",
    "# Emisiones por km (valores aproximados)\n",
    "emisiones_por_km = {\n",
    "    'a pie': 0,\n",
    "    'bicicleta': 0,\n",
    "    'coche': 0.21,\n",
    "    'transporte público': 0.11,\n",
    "    'desconocido': 0\n",
    "}\n",
    "\n",
    "df['Emision_dia_kgCO2'] = df.apply(lambda row: row['Distancia_km'] * emisiones_por_km.get(row['Modo_Transporte'], 0), axis=1)\n",
    "df['Emision_anual_kgCO2'] = df['Emision_dia_kgCO2'] * 220  # Suponiendo 220 días laborales"
   ]
  },
  {
   "cell_type": "code",
   "execution_count": null,
   "id": "bc91590a",
   "metadata": {},
   "outputs": [],
   "source": [
    "# Visualizamos los resultados\n",
    "df[['Residencia', 'Direccion_Trabajo', 'Distancia_km', 'Modo_Transporte', 'Emision_dia_kgCO2', 'Emision_anual_kgCO2']].head()"
   ]
  }
 ],
 "metadata": {},
 "nbformat": 4,
 "nbformat_minor": 5
}