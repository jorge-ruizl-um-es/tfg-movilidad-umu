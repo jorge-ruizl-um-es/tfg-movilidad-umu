{
 "cells": [
  {
   "cell_type": "markdown",
   "id": "894ad891",
   "metadata": {},
   "source": [
    "# 🚌 Escenario Alternativo: 50% usan transporte público\n",
    "\n",
    "Este cuaderno evalúa el impacto de una política hipotética que cambia el modo de transporte de la mitad de los trabajadores al autobús, y calcula la nueva huella de carbono total."
   ]
  },
  {
   "cell_type": "code",
   "execution_count": null,
   "id": "97bd08da",
   "metadata": {},
   "outputs": [],
   "source": [
    "# Cargar librerías necesarias\n",
    "import pandas as pd\n",
    "import matplotlib.pyplot as plt\n",
    "import seaborn as sns\n",
    "from src.emissions.model import estimate_emissions\n",
    "sns.set(style='whitegrid')"
   ]
  },
  {
   "cell_type": "code",
   "execution_count": null,
   "id": "438e16c4",
   "metadata": {},
   "outputs": [],
   "source": [
    "# Cargar datos existentes\n",
    "df = pd.read_csv('data/processed/datos_movilidad_coordenadas.csv')\n",
    "df = df.dropna(subset=['Distancia_km'])"
   ]
  },
  {
   "cell_type": "markdown",
   "id": "8532d5a0",
   "metadata": {},
   "source": [
    "## Crear columna de escenario: 50% aleatorio usan 'bus'"
   ]
  },
  {
   "cell_type": "code",
   "execution_count": null,
   "id": "a1d870a5",
   "metadata": {},
   "outputs": [],
   "source": [
    "import numpy as np\n",
    "df['Modo_Alternativo'] = df['Modo_Transporte']\n",
    "mask = np.random.rand(len(df)) < 0.5\n",
    "df.loc[mask, 'Modo_Alternativo'] = 'bus'"
   ]
  },
  {
   "cell_type": "markdown",
   "id": "96ca1590",
   "metadata": {},
   "source": [
    "## Recalcular emisiones para el escenario"
   ]
  },
  {
   "cell_type": "code",
   "execution_count": null,
   "id": "5a820b5b",
   "metadata": {},
   "outputs": [],
   "source": [
    "df['Emision_alternativa'] = df.apply(lambda row: estimate_emissions(row['Modo_Alternativo'], row['Distancia_km']) * 2 * 220, axis=1)"
   ]
  },
  {
   "cell_type": "markdown",
   "id": "8209fd63",
   "metadata": {},
   "source": [
    "## Comparativa de emisiones por trabajador"
   ]
  },
  {
   "cell_type": "code",
   "execution_count": null,
   "id": "db27ad83",
   "metadata": {},
   "outputs": [],
   "source": [
    "df['Reduccion_kg'] = df['Emision_anual_kgCO2'] - df['Emision_alternativa']\n",
    "\n",
    "plt.figure(figsize=(10, 5))\n",
    "df_sorted = df.sort_values('Reduccion_kg', ascending=False)\n",
    "sns.barplot(x='Nombre', y='Reduccion_kg', data=df_sorted)\n",
    "plt.title('Reducción estimada de CO₂ anual por trabajador (escenario 50% bus)')\n",
    "plt.ylabel('kg CO₂ evitados por año')\n",
    "plt.xlabel('Trabajador')\n",
    "plt.xticks(rotation=45)\n",
    "plt.tight_layout()\n",
    "plt.show()"
   ]
  },
  {
   "cell_type": "markdown",
   "id": "370993b1",
   "metadata": {},
   "source": [
    "## Emisiones totales: realidad vs escenario"
   ]
  },
  {
   "cell_type": "code",
   "execution_count": null,
   "id": "2f1b4e0d",
   "metadata": {},
   "outputs": [],
   "source": [
    "real_total = df['Emision_anual_kgCO2'].sum()\n",
    "alt_total = df['Emision_alternativa'].sum()\n",
    "print(f\"Total actual: {real_total:.2f} kg CO₂\")\n",
    "print(f\"Total escenario alternativo: {alt_total:.2f} kg CO₂\")\n",
    "print(f\"Reducción total: {real_total - alt_total:.2f} kg CO₂\")"
   ]
  }
 ],
 "metadata": {},
 "nbformat": 4,
 "nbformat_minor": 5
}