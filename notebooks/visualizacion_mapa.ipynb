{
 "cells": [
  {
   "cell_type": "markdown",
   "id": "b2f59dab",
   "metadata": {},
   "source": [
    "# 🗺️ Visualización en Mapa de Trayectos Laborales\n",
    "\n",
    "Este cuaderno muestra cómo visualizar los datos georreferenciados de trabajadores y sus desplazamientos diarios al trabajo sobre un mapa interactivo."
   ]
  },
  {
   "cell_type": "code",
   "execution_count": null,
   "id": "c37fbea6",
   "metadata": {},
   "outputs": [],
   "source": [
    "# Cargar librerías necesarias\n",
    "import pandas as pd\n",
    "import folium\n",
    "from folium import Popup, Marker, PolyLine"
   ]
  },
  {
   "cell_type": "code",
   "execution_count": null,
   "id": "e5fccdbe",
   "metadata": {},
   "outputs": [],
   "source": [
    "# Cargar los datos procesados con coordenadas\n",
    "df = pd.read_csv('data/processed/datos_movilidad_coordenadas.csv')\n",
    "df.head()"
   ]
  },
  {
   "cell_type": "markdown",
   "id": "afb0b97c",
   "metadata": {},
   "source": [
    "## 🌍 Mapa base y puntos de residencia y trabajo"
   ]
  },
  {
   "cell_type": "code",
   "execution_count": null,
   "id": "8b76c6b3",
   "metadata": {},
   "outputs": [],
   "source": [
    "# Crear mapa centrado en una coordenada media\n",
    "lat_media = df[['Lat_Residencia', 'Lat_Trabajo']].mean().mean()\n",
    "lon_media = df[['Lon_Residencia', 'Lon_Trabajo']].mean().mean()\n",
    "m = folium.Map(location=[lat_media, lon_media], zoom_start=10)"
   ]
  },
  {
   "cell_type": "code",
   "execution_count": null,
   "id": "b6ff25b5",
   "metadata": {},
   "outputs": [],
   "source": [
    "# Añadir marcadores y trayectos\n",
    "for i, row in df.iterrows():\n",
    "    residencia = (row['Lat_Residencia'], row['Lon_Residencia'])\n",
    "    trabajo = (row['Lat_Trabajo'], row['Lon_Trabajo'])\n",
    "    \n",
    "    # Marcadores\n",
    "    folium.CircleMarker(location=residencia, radius=4, color='blue', fill=True, fill_opacity=0.6,\n",
    "                        popup=Popup(f\"Residencia: {row['Residencia']}\")).add_to(m)\n",
    "    folium.CircleMarker(location=trabajo, radius=4, color='green', fill=True, fill_opacity=0.6,\n",
    "                        popup=Popup(f\"Trabajo: {row['Direccion_Trabajo']}\")).add_to(m)\n",
    "    \n",
    "    # Línea entre puntos\n",
    "    PolyLine(locations=[residencia, trabajo], color='gray', weight=1).add_to(m)"
   ]
  },
  {
   "cell_type": "code",
   "execution_count": null,
   "id": "95397e20",
   "metadata": {},
   "outputs": [],
   "source": [
    "# Mostrar mapa\n",
    "m"
   ]
  }
 ],
 "metadata": {},
 "nbformat": 4,
 "nbformat_minor": 5
}