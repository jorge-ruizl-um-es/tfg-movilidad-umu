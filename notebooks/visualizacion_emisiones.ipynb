{
 "cells": [
  {
   "cell_type": "markdown",
   "id": "b2da4c1a",
   "metadata": {},
   "source": [
    "# 📊 Visualización de Emisiones de CO₂ por Trabajador y Modo de Transporte\n",
    "\n",
    "Este cuaderno genera representaciones gráficas de las emisiones estimadas por trabajador y por modo de transporte."
   ]
  },
  {
   "cell_type": "code",
   "execution_count": null,
   "id": "ced355a2",
   "metadata": {},
   "outputs": [],
   "source": [
    "# Cargar librerías necesarias\n",
    "import pandas as pd\n",
    "import matplotlib.pyplot as plt\n",
    "import seaborn as sns\n",
    "sns.set(style='whitegrid')"
   ]
  },
  {
   "cell_type": "code",
   "execution_count": null,
   "id": "03f193b0",
   "metadata": {},
   "outputs": [],
   "source": [
    "# Cargar el dataset procesado\n",
    "df = pd.read_csv('data/processed/datos_movilidad_coordenadas.csv')\n",
    "df = df.dropna(subset=['Emision_anual_kgCO2', 'Modo_Transporte'])\n",
    "df.head()"
   ]
  },
  {
   "cell_type": "markdown",
   "id": "1cf35efb",
   "metadata": {},
   "source": [
    "## 🔹 Emisiones anuales por trabajador"
   ]
  },
  {
   "cell_type": "code",
   "execution_count": null,
   "id": "db5bcdb0",
   "metadata": {},
   "outputs": [],
   "source": [
    "# Gráfico de barras con emisiones por trabajador\n",
    "plt.figure(figsize=(10, 5))\n",
    "df_sorted = df.sort_values('Emision_anual_kgCO2', ascending=False)\n",
    "sns.barplot(x='Nombre', y='Emision_anual_kgCO2', data=df_sorted)\n",
    "plt.title('Emisión anual estimada de CO₂ por trabajador (kg)')\n",
    "plt.ylabel('kg CO₂/año')\n",
    "plt.xlabel('Trabajador')\n",
    "plt.xticks(rotation=45)\n",
    "plt.tight_layout()\n",
    "plt.show()"
   ]
  },
  {
   "cell_type": "markdown",
   "id": "5cd43c55",
   "metadata": {},
   "source": [
    "## 🔹 Emisiones totales por modo de transporte"
   ]
  },
  {
   "cell_type": "code",
   "execution_count": null,
   "id": "520f7218",
   "metadata": {},
   "outputs": [],
   "source": [
    "# Gráfico de barras con suma total por modo de transporte\n",
    "plt.figure(figsize=(8, 4))\n",
    "modo_sum = df.groupby('Modo_Transporte')['Emision_anual_kgCO2'].sum().reset_index()\n",
    "sns.barplot(x='Modo_Transporte', y='Emision_anual_kgCO2', data=modo_sum)\n",
    "plt.title('Emisión anual total por modo de transporte')\n",
    "plt.ylabel('kg CO₂/año')\n",
    "plt.xlabel('Modo de transporte')\n",
    "plt.tight_layout()\n",
    "plt.show()"
   ]
  }
 ],
 "metadata": {},
 "nbformat": 4,
 "nbformat_minor": 5
}